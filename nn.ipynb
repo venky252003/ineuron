{
 "cells": [
  {
   "cell_type": "code",
   "execution_count": 18,
   "source": [
    "import numpy as np\r\n",
    "import pandas as pd\r\n",
    "import joblib \r\n",
    "import tqdm"
   ],
   "outputs": [],
   "metadata": {}
  },
  {
   "cell_type": "code",
   "execution_count": 5,
   "source": [
    "## Simple NN Logic single layer function\r\n",
    "weights = 0.1\r\n",
    "def nueral_network(input, weights):\r\n",
    "    return input * weights\r\n",
    "\r\n",
    "input = [8.5, 7.5, 9]\r\n",
    "pred = []\r\n",
    "for i in input:\r\n",
    "    pred.append(nueral_network(i, weights))\r\n",
    "\r\n",
    "print(pred)"
   ],
   "outputs": [
    {
     "output_type": "stream",
     "name": "stdout",
     "text": [
      "[0.8500000000000001, 0.75, 0.9]\n"
     ]
    }
   ],
   "metadata": {}
  },
  {
   "cell_type": "code",
   "execution_count": 7,
   "source": [
    "## Multiple Input and Single Output Nueral Network\r\n",
    "weights = [0.5, 0.1, 0.2]\r\n",
    "\r\n",
    "toes = [8.5, 7.5, 9]\r\n",
    "won_game = [0.8, 0.75, 0.9]\r\n",
    "fans = [1.2, 1, 1.5]\r\n",
    "\r\n",
    "def w_sum(a, b):\r\n",
    "    output = 0\r\n",
    "    for i in range(len(a)):\r\n",
    "        output += (a[i] * b[i])\r\n",
    "\r\n",
    "    return output\r\n",
    "\r\n",
    "def nueral_network_layers(input, weights):\r\n",
    "    pred = w_sum(input, weights)\r\n",
    "    return pred\r\n",
    "\r\n",
    "pred = []\r\n",
    "for i in range(len(toes)):\r\n",
    "    input = [toes[i], won_game[i], fans[i]]\r\n",
    "    pred.append(nueral_network_layers(input, weights))\r\n",
    "    \r\n",
    "print(pred)"
   ],
   "outputs": [
    {
     "output_type": "stream",
     "name": "stdout",
     "text": [
      "[4.57, 4.025, 4.89]\n"
     ]
    }
   ],
   "metadata": {}
  },
  {
   "cell_type": "code",
   "execution_count": 10,
   "source": [
    "# Single Input and Multiple output Neural Networks\r\n",
    "weights = [0.3, 0.5, 0.85]\r\n",
    "\r\n",
    "def element_multiply(number, vector):\r\n",
    "    output = [0, 0, 0]\r\n",
    "    for i in range(len(vector)):\r\n",
    "        output[i] = number * vector[i]\r\n",
    "\r\n",
    "    return output\r\n",
    "\r\n",
    "def nueral_network_multiple(input, weights):\r\n",
    "    pred = element_multiply(input, weights)\r\n",
    "    return pred\r\n",
    "\r\n",
    "\r\n",
    "won_game = 0.9\r\n",
    "print(nueral_network_multiple(won_game, weights))"
   ],
   "outputs": [
    {
     "output_type": "stream",
     "name": "stdout",
     "text": [
      "[0.27, 0.45, 0.765]\n"
     ]
    }
   ],
   "metadata": {}
  },
  {
   "cell_type": "code",
   "execution_count": 11,
   "source": [
    "# Multiple Input and output Neural Networks\r\n",
    "toes = np.array([8.5, 9.5, 9.9, 9.0])\r\n",
    "wlrec = np.array([0.65,0.8, 0.8, 0.9])\r\n",
    "nfans = np.array([1.2, 1.3, 0.5, 1.0])\r\n",
    "\r\n",
    "                 # toes % win # fans\r\n",
    "ih_wgt = np.array([ [0.1, 0.2, -0.1], # hid[0]\r\n",
    "            [-0.1,0.1, 0.9], # hid[1]\r\n",
    "            [0.1, 0.4, 0.1] ]) # hid[2]\r\n",
    "\r\n",
    "                    #hid[0] hid[1] hid[2]\r\n",
    "hp_wgt = np.array([ [0.3, 1.1, -0.3], # hurt?\r\n",
    "            [0.1, 0.2, 0.0], # win?\r\n",
    "            [0.0, 1.3, 0.1] ]) # sad?\r\n",
    "\r\n",
    "weights = [ih_wgt, hp_wgt]\r\n",
    "\r\n",
    "def neural_network_multi_output(input, weights):\r\n",
    "    hidden = input.dot(weights[0])\r\n",
    "    pred = hidden.dot(weights[1])\r\n",
    "    return pred\r\n",
    "\r\n",
    "pred = []\r\n",
    "for i in range(len(toes)):\r\n",
    "    input = np.array([toes[i], wlrec[i], nfans[i]])\r\n",
    "    pred.append(neural_network_multi_output(input, weights))\r\n",
    "\r\n",
    "print(pred)"
   ],
   "outputs": [
    {
     "output_type": "stream",
     "name": "stdout",
     "text": [
      "[array([ 0.496,  1.256, -0.286]), array([ 0.55,  1.47, -0.31]), array([ 0.514,  1.222, -0.31 ]), array([ 0.502,  1.472, -0.272])]\n"
     ]
    }
   ],
   "metadata": {}
  },
  {
   "cell_type": "code",
   "execution_count": 54,
   "source": [
    "## Gradent Descent Slope weight updates using weight delta value\r\n",
    "weights, input, goal_pred = (0.0, 2, 4)\r\n",
    "alpha = 0.01 # Learning Rate\r\n",
    "for i in range(30):\r\n",
    "    pred = input * weights\r\n",
    "    error = (pred - goal_pred) ** 2\r\n",
    "    delta = (pred - goal_pred)\r\n",
    "    weight_delta = input * delta * alpha # Derivatives\r\n",
    "    weights = weights - weight_delta\r\n",
    "    print(f\"Prediction: {round(pred, 5)}, Error: {round(error, 5)}, Delta: {round(delta, 5)}, Delta Weight: {round(weight_delta, 5)}, Weight: {round(weights, 5)}\")"
   ],
   "outputs": [
    {
     "output_type": "stream",
     "name": "stdout",
     "text": [
      "Prediction: 0.0, Error: 16.0, Delta: -4.0, Delta Weight: -0.08, Weight: 0.08\n",
      "Prediction: 0.16, Error: 14.7456, Delta: -3.84, Delta Weight: -0.0768, Weight: 0.1568\n",
      "Prediction: 0.3136, Error: 13.58954, Delta: -3.6864, Delta Weight: -0.07373, Weight: 0.23053\n",
      "Prediction: 0.46106, Error: 12.52412, Delta: -3.53894, Delta Weight: -0.07078, Weight: 0.30131\n",
      "Prediction: 0.60261, Error: 11.54223, Delta: -3.39739, Delta Weight: -0.06795, Weight: 0.36925\n",
      "Prediction: 0.73851, Error: 10.63732, Delta: -3.26149, Delta Weight: -0.06523, Weight: 0.43448\n",
      "Prediction: 0.86897, Error: 9.80336, Delta: -3.13103, Delta Weight: -0.06262, Weight: 0.49711\n",
      "Prediction: 0.99421, Error: 9.03477, Delta: -3.00579, Delta Weight: -0.06012, Weight: 0.55722\n",
      "Prediction: 1.11444, Error: 8.32645, Delta: -2.88556, Delta Weight: -0.05771, Weight: 0.61493\n",
      "Prediction: 1.22986, Error: 7.67365, Delta: -2.77014, Delta Weight: -0.0554, Weight: 0.67033\n",
      "Prediction: 1.34067, Error: 7.07204, Delta: -2.65933, Delta Weight: -0.05319, Weight: 0.72352\n",
      "Prediction: 1.44704, Error: 6.51759, Delta: -2.55296, Delta Weight: -0.05106, Weight: 0.77458\n",
      "Prediction: 1.54916, Error: 6.00661, Delta: -2.45084, Delta Weight: -0.04902, Weight: 0.8236\n",
      "Prediction: 1.64719, Error: 5.53569, Delta: -2.35281, Delta Weight: -0.04706, Weight: 0.87065\n",
      "Prediction: 1.74131, Error: 5.1017, Delta: -2.25869, Delta Weight: -0.04517, Weight: 0.91583\n",
      "Prediction: 1.83165, Error: 4.70172, Delta: -2.16835, Delta Weight: -0.04337, Weight: 0.95919\n",
      "Prediction: 1.91839, Error: 4.33311, Delta: -2.08161, Delta Weight: -0.04163, Weight: 1.00083\n",
      "Prediction: 2.00165, Error: 3.99339, Delta: -1.99835, Delta Weight: -0.03997, Weight: 1.04079\n",
      "Prediction: 2.08159, Error: 3.68031, Delta: -1.91841, Delta Weight: -0.03837, Weight: 1.07916\n",
      "Prediction: 2.15832, Error: 3.39177, Delta: -1.84168, Delta Weight: -0.03683, Weight: 1.116\n",
      "Prediction: 2.23199, Error: 3.12586, Delta: -1.76801, Delta Weight: -0.03536, Weight: 1.15136\n",
      "Prediction: 2.30271, Error: 2.88079, Delta: -1.69729, Delta Weight: -0.03395, Weight: 1.1853\n",
      "Prediction: 2.3706, Error: 2.65494, Delta: -1.6294, Delta Weight: -0.03259, Weight: 1.21789\n",
      "Prediction: 2.43578, Error: 2.44679, Delta: -1.56422, Delta Weight: -0.03128, Weight: 1.24917\n",
      "Prediction: 2.49835, Error: 2.25496, Delta: -1.50165, Delta Weight: -0.03003, Weight: 1.27921\n",
      "Prediction: 2.55841, Error: 2.07817, Delta: -1.44159, Delta Weight: -0.02883, Weight: 1.30804\n",
      "Prediction: 2.61608, Error: 1.91524, Delta: -1.38392, Delta Weight: -0.02768, Weight: 1.33572\n",
      "Prediction: 2.67143, Error: 1.76509, Delta: -1.32857, Delta Weight: -0.02657, Weight: 1.36229\n",
      "Prediction: 2.72458, Error: 1.62671, Delta: -1.27542, Delta Weight: -0.02551, Weight: 1.3878\n",
      "Prediction: 2.77559, Error: 1.49917, Delta: -1.22441, Delta Weight: -0.02449, Weight: 1.41228\n"
     ]
    }
   ],
   "metadata": {}
  },
  {
   "cell_type": "code",
   "execution_count": 2,
   "source": [
    "# Multiple input and Single Output with GD logic\r\n"
   ],
   "outputs": [],
   "metadata": {}
  },
  {
   "cell_type": "code",
   "execution_count": null,
   "source": [],
   "outputs": [],
   "metadata": {}
  }
 ],
 "metadata": {
  "orig_nbformat": 4,
  "language_info": {
   "name": "python",
   "version": "3.8.2",
   "mimetype": "text/x-python",
   "codemirror_mode": {
    "name": "ipython",
    "version": 3
   },
   "pygments_lexer": "ipython3",
   "nbconvert_exporter": "python",
   "file_extension": ".py"
  },
  "kernelspec": {
   "name": "python3",
   "display_name": "Python 3.8.2 64-bit (system)"
  },
  "interpreter": {
   "hash": "05afa5c9a07b3fd48c7e6ef8d1af746238002bacb79a89054dc968c01b1f64ac"
  }
 },
 "nbformat": 4,
 "nbformat_minor": 2
}